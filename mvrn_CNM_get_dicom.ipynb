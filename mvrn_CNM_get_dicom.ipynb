{
 "cells": [
  {
   "cell_type": "code",
   "execution_count": 17,
   "metadata": {},
   "outputs": [
    {
     "data": {
      "text/plain": [
       "['/home/mrive301/Documents/CogNeuro_Methods/CogNeuro_proj/sourcedata/Mattfeld_REVL-000-vCAT-021-S1/scans/10-fMRI_REVL_Study_1/resources/DICOM/files/1.3.12.2.1107.5.2.43.166003.30000019061912563618000000017-10-238-gxanmz.dcm',\n",
       " '/home/mrive301/Documents/CogNeuro_Methods/CogNeuro_proj/sourcedata/Mattfeld_REVL-000-vCAT-021-S1/scans/10-fMRI_REVL_Study_1/resources/DICOM/files/1.3.12.2.1107.5.2.43.166003.30000019061912563618000000017-10-59-n5z7t9.dcm',\n",
       " '/home/mrive301/Documents/CogNeuro_Methods/CogNeuro_proj/sourcedata/Mattfeld_REVL-000-vCAT-021-S1/scans/10-fMRI_REVL_Study_1/resources/DICOM/files/1.3.12.2.1107.5.2.43.166003.30000019061912563618000000017-10-270-dz6t7d.dcm',\n",
       " '/home/mrive301/Documents/CogNeuro_Methods/CogNeuro_proj/sourcedata/Mattfeld_REVL-000-vCAT-021-S1/scans/10-fMRI_REVL_Study_1/resources/DICOM/files/1.3.12.2.1107.5.2.43.166003.30000019061912563618000000017-10-42-cp4nkt.dcm',\n",
       " '/home/mrive301/Documents/CogNeuro_Methods/CogNeuro_proj/sourcedata/Mattfeld_REVL-000-vCAT-021-S1/scans/10-fMRI_REVL_Study_1/resources/DICOM/files/1.3.12.2.1107.5.2.43.166003.30000019061912563618000000017-10-258-r73et1.dcm']"
      ]
     },
     "execution_count": 17,
     "metadata": {},
     "output_type": "execute_result"
    }
   ],
   "source": [
    "from glob import glob\n",
    "import pydicom as dicom\n",
    "import pandas as pd\n",
    "import os\n",
    "\n",
    "'''\n",
    "==========================================================\n",
    "Creating list to show and iterate over every scan directory, \n",
    "including:\n",
    "5-T1w_MPR_vNav -- MPRAGE (structrual dicoms),\n",
    "6-fMRI_DistortionMap_PA (fmri field map dicoms),\n",
    "7-fMRI_DistortionMap_AP (fmri field map dicoms opposite\n",
    "    phase encode direction),\n",
    "9-fMRI_REVL_ROI_loc_2 (fmri localizer dicoms run1),\n",
    "10-fMRI_REVL_Study_1 (fmri task dicoms run1),\n",
    "14-dMRI_DistortionMap_AP_dMRI_REVL (dwi field map\n",
    "     dicoms),\n",
    "16-dMRI_AP_REVL (diffusion weighted dicoms)\n",
    "==========================================================\n",
    "'''\n",
    "#setting paths to sourcedata. the parent directory of scans\n",
    "base_dir = '/home/mrive301/Documents/CogNeuro_Methods'\n",
    "proj_dir = '/CogNeuro_proj/sourcedata'\n",
    "\n",
    "data = base_dir + proj_dir\n",
    "\n",
    "#setting path to scans directory\n",
    "scans = data + '/Mattfeld_REVL-000-vCAT-021-S1/scans/'\n",
    "\n",
    "#creating for loop to iterate over every scan directory and its subfolders\n",
    "for filename in os.listdir(scans):\n",
    "    subj_dir = f'/Mattfeld_REVL-000-vCAT-021-S1/scans/{filename}/resources/DICOM/files'\n",
    "    \n",
    "    #creating variable that will hold route to all the subfolder files \n",
    "    data_dir = data + subj_dir\n",
    "    '''\n",
    "    ==============================================================\n",
    "    Aaron's Question: why would I use glob? What does it give me?\n",
    "    Answer: glob grabs every possible file within a given directory.\n",
    "    In this case that is the dicom files of every scan.\n",
    "    =============================================================\n",
    "    '''\n",
    "    data_files = glob(data_dir + '/*')\n",
    "    #creating a for loop to split the list of files\n",
    "    for scans in data_files:\n",
    "        split = scans.split(',')\n",
    "#printing the first five files of my for loop (and list)\n",
    "data_files[:5]\n",
    "#If the entire list is needed, print split. The last for loop will split them\n",
    "#at comma to avoid a confusing long list"
   ]
  },
  {
   "cell_type": "code",
   "execution_count": 25,
   "metadata": {
    "scrolled": false
   },
   "outputs": [
    {
     "name": "stdout",
     "output_type": "stream",
     "text": [
      "The number of TRs collected equals: 355 \n",
      " \n",
      "The timing of the TR was: 1760 ms \n",
      " \n",
      "The timing of the TE was: 35 ms \n",
      " \n",
      "The flip angle in degrees was: 52 \n",
      " \n",
      "The name of the scan was: fMRI_REVL_Study_1 \n",
      " \n",
      "The acquisition number was: 238 \n",
      " \n",
      "The protocol name was: fMRI_REVL_Study_1 \n",
      " \n",
      "The acquisition matrix was: [100, 0, 0, 90]\n",
      "\n",
      " In-plane Phase Encoding: COL \n",
      " \n",
      " Field of View: FoV 1800*1800 \n",
      " \n",
      " Slice Times: [1264.99999998, 0.0, 870.0, 77.49999998, 947.50000001, 157.5, 1027.5, 237.49999999, 1107.49999998, 315.0, 1185.0, 475.00000001, 1345.0, 552.49999999, 1422.49999999, 632.50000001, 1502.5, 709.99999999, 1579.99999999, 790.00000001, 1660.0, 394.99999999, 1264.99999998, 0.0, 870.0, 77.49999998, 947.50000001, 157.5, 1027.5, 237.49999999, 1107.49999998, 315.0, 1185.0, 475.00000001, 1345.0, 552.49999999, 1422.49999999, 632.50000001, 1502.5, 709.99999999, 1579.99999999, 790.00000001, 1660.0, 394.99999999, 1264.99999998, 0.0, 870.0, 77.49999998, 947.50000001, 157.5, 1027.5, 237.49999999, 1107.49999998, 315.0, 1185.0, 475.00000001, 1345.0, 552.49999999, 1422.49999999, 632.50000001, 1502.5, 709.99999999, 1579.99999999, 790.00000001, 1660.0, 394.99999999]\n"
     ]
    }
   ],
   "source": [
    "'''\n",
    "======================================================\n",
    "Aaron's Question: Here I am using the python dicom\n",
    "reader to read in a dicom header. What should go \n",
    "between the square brackets []\n",
    "Answer: data_files[0] to list the dicom for each slice time\n",
    "to then get the dicom header\n",
    "======================================================\n",
    "'''\n",
    "data_set = dicom.dcmread(data_files[0])\n",
    "#To list all files, print data_set\n",
    "\n",
    "#Retrieving some nonprivate headers\n",
    "print('The number of TRs collected equals: {0}'.format(len(data_files)),  \n",
    "         '\\n',\n",
    "         '\\nThe timing of the TR was: {0} ms'.format(data_set.RepetitionTime),\n",
    "         '\\n',\n",
    "         '\\nThe timing of the TE was: {0} ms'.format(data_set.EchoTime),\n",
    "         '\\n',\n",
    "         '\\nThe flip angle in degrees was: {0}'.format(data_set.FlipAngle),\n",
    "         '\\n',\n",
    "         '\\nThe name of the scan was: {0}'.format(data_set.SeriesDescription),\n",
    "         '\\n',\n",
    "         '\\nThe acquisition number was: {0}'.format(data_set.AcquisitionNumber),\n",
    "         '\\n',\n",
    "         '\\nThe protocol name was: {0}'.format(data_set.ProtocolName),\n",
    "         '\\n',\n",
    "         '\\nThe acquisition matrix was: {0}'.format(data_set.AcquisitionMatrix))\n",
    "\n",
    "'''\n",
    "==================================================================\n",
    "Why use the following format to access information in the header?\n",
    "\n",
    "The following is private info (usually in brackets) regarding the scan \n",
    "that would be usually be the propriety of the scanning center, but can \n",
    "be obtained using the hexadecimal assigned numbers. \n",
    "\n",
    "The following headers, for instance, would provide info about how the \n",
    "image was acquired, specifically, the magnetic gradient field and the\n",
    "field of view in which the image was acquired. \n",
    "==================================================================\n",
    "'''\n",
    "      \n",
    "#Getting some of the private headers\n",
    "print(#In-plane Phase Encoding Direction, which may be either a-to-p\n",
    "         #or p-to-a\n",
    "         \"\\n In-plane Phase Encoding:\", data_set[int('00181312', 16)].value,\n",
    "         #Field of View\n",
    "         \"\\n\",\n",
    "         \"\\n Field of View:\", data_set[int('0051100c', 16)].value,\n",
    "         \"\\n\",\n",
    "          #Slice Times\n",
    "         \"\\n Slice Times:\", data_set[0x00191029].value) "
   ]
  },
  {
   "cell_type": "code",
   "execution_count": 25,
   "metadata": {},
   "outputs": [
    {
     "name": "stdout",
     "output_type": "stream",
     "text": [
      "0\n"
     ]
    },
    {
     "name": "stderr",
     "output_type": "stream",
     "text": [
      "/home/data/madlab/envs/emuR01_madlab_env/lib/python3.6/site-packages/ipykernel_launcher.py:7: UserWarning: The DICOM readers are highly experimental, unstable, and only work for Siemens time-series at the moment\n",
      "Please use with caution.  We would be grateful for your help in improving them\n",
      "  import sys\n"
     ]
    }
   ],
   "source": [
    "'''\n",
    "=================================================\n",
    "Aaron's Question: How do I find phase encoding \n",
    "direction information?\n",
    "=================================================\n",
    "'''\n",
    "import nibabel.nicom.csareader as csareader\n",
    "csa_str = data_set[int('00291010', 16)].value\n",
    "csa_tr = csareader.read(csa_str)\n",
    "print(csa_tr['tags']['PhaseEncodingDirectionPositive']['items'][0])\n",
    "\n",
    "#Phase encoding 0, means no phase encoding gradient has ben applied yet. "
   ]
  }
 ],
 "metadata": {
  "kernelspec": {
   "display_name": "Python 3",
   "language": "python",
   "name": "python3"
  },
  "language_info": {
   "codemirror_mode": {
    "name": "ipython",
    "version": 3
   },
   "file_extension": ".py",
   "mimetype": "text/x-python",
   "name": "python",
   "nbconvert_exporter": "python",
   "pygments_lexer": "ipython3",
   "version": "3.6.10"
  }
 },
 "nbformat": 4,
 "nbformat_minor": 2
}
